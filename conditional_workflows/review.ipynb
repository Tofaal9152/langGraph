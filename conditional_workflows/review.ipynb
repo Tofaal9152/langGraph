{
 "cells": [
  {
   "cell_type": "code",
   "execution_count": 54,
   "id": "27049095",
   "metadata": {},
   "outputs": [
    {
     "data": {
      "text/plain": [
       "True"
      ]
     },
     "execution_count": 54,
     "metadata": {},
     "output_type": "execute_result"
    }
   ],
   "source": [
    "from langgraph.graph import StateGraph, START, END\n",
    "from typing import TypedDict\n",
    "from langchain_openai import ChatOpenAI\n",
    "from dotenv import load_dotenv\n",
    "from langchain_core.output_parsers import StrOutputParser\n",
    "from typing import Literal\n",
    "from pydantic import BaseModel, Field\n",
    "from langchain_core.prompts import PromptTemplate\n",
    "\n",
    "load_dotenv()"
   ]
  },
  {
   "cell_type": "code",
   "execution_count": 55,
   "id": "c2c5057b",
   "metadata": {},
   "outputs": [],
   "source": [
    "llm = ChatOpenAI (model='gpt-4o-mini')\n",
    "str_parser = StrOutputParser()"
   ]
  },
  {
   "cell_type": "code",
   "execution_count": 56,
   "id": "d5caf815",
   "metadata": {},
   "outputs": [],
   "source": [
    "class ReviewSchema(BaseModel):\n",
    "    sentiment: Literal[\"positive\", \"negative\"] = Field(description=\"Review of the user\")"
   ]
  },
  {
   "cell_type": "code",
   "execution_count": 57,
   "id": "8a4061e5",
   "metadata": {},
   "outputs": [],
   "source": [
    "class DiagnosisSchema(BaseModel):\n",
    "    issue_type: Literal[\"UX\", \"Performance\", \"Bug\", \"Support\", \"Other\"] = Field(description='The category of issue mentioned in the review')\n",
    "    tone: Literal[\"angry\", \"frustrated\", \"disappointed\", \"calm\"] = Field(description='The emotional tone expressed by the user')\n",
    "    urgency: Literal[\"low\", \"medium\", \"high\"] = Field(description='How urgent or critical the issue appears to be')"
   ]
  },
  {
   "cell_type": "code",
   "execution_count": 58,
   "id": "ee45a714",
   "metadata": {},
   "outputs": [],
   "source": [
    "structured_model = llm.with_structured_output(ReviewSchema)\n",
    "structured_model2 = llm.with_structured_output(DiagnosisSchema)"
   ]
  },
  {
   "cell_type": "code",
   "execution_count": 59,
   "id": "e1e85761",
   "metadata": {},
   "outputs": [],
   "source": [
    "prompt = PromptTemplate(\n",
    "    input_variables=[\"review\"],\n",
    "    template=\"Analyze the following review and determine if the sentiment is positive or negative: {review}\"\n",
    ")\n",
    "Review_prompt = PromptTemplate(\n",
    "    input_variables=[\"review\", \"sentiment\"],\n",
    "    template=\"Based on this, make a {sentiment} feedback. If the user says something nonsensical, handle it appropriately.\\nContext: {review}\"\n",
    ")"
   ]
  },
  {
   "cell_type": "code",
   "execution_count": 60,
   "id": "deba1213",
   "metadata": {},
   "outputs": [],
   "source": [
    "# define state\n",
    "class state(TypedDict):\n",
    "    review:str\n",
    "    sentiment: str\n",
    "    feedback:str\n",
    "    diagnosis: dict"
   ]
  },
  {
   "cell_type": "code",
   "execution_count": 61,
   "id": "5203e208",
   "metadata": {},
   "outputs": [],
   "source": [
    "# Define the graph\n",
    "graph = StateGraph(state)"
   ]
  },
  {
   "cell_type": "code",
   "execution_count": 62,
   "id": "2719d8f6",
   "metadata": {},
   "outputs": [],
   "source": [
    "def positive_feedback(state: state) -> state:\n",
    "    chain =  Review_prompt | llm | str_parser\n",
    "    res = chain.invoke({\"review\": state[\"review\"], \"sentiment\" : state[\"sentiment\"]})\n",
    "\n",
    "    state[\"feedback\"] = res\n",
    "\n",
    "    return {\"feedback\": res}"
   ]
  },
  {
   "cell_type": "code",
   "execution_count": 63,
   "id": "2ba00eba",
   "metadata": {},
   "outputs": [],
   "source": [
    "def run_diagnosis(state: state) -> state:\n",
    "\n",
    "    prompt = f\"\"\"Diagnose this negative review:\\n\\n{state['review']}\\n\"\n",
    "    \"Return issue_type, tone, and urgency.\n",
    "\"\"\"\n",
    "    response = structured_model2.invoke(prompt)\n",
    "    \n",
    "\n",
    "    return {\"diagnosis\": response.model_dump()}"
   ]
  },
  {
   "cell_type": "code",
   "execution_count": 64,
   "id": "116e33b0",
   "metadata": {},
   "outputs": [],
   "source": [
    "def negative_feedback(state: state) -> state:\n",
    "    diagnosis = state[\"diagnosis\"]\n",
    "\n",
    "    prompt = f\"\"\"You are a support assistant.\n",
    "The user had a '{diagnosis['issue_type']}' issue, sounded '{diagnosis['tone']}', and marked urgency as '{diagnosis['urgency']}'.\n",
    "Write an empathetic, helpful resolution message.\n",
    "\"\"\"\n",
    "    res = llm.invoke(prompt).content\n",
    "\n",
    "    return {\"feedback\": res}"
   ]
  },
  {
   "cell_type": "code",
   "execution_count": 65,
   "id": "10844f0d",
   "metadata": {},
   "outputs": [],
   "source": [
    "def sentiment(state: state) -> state:\n",
    "    chain = prompt | structured_model\n",
    "    res = chain.invoke({\"review\": state[\"review\"]})\n",
    "    \n",
    "    return {\"sentiment\": res.sentiment}"
   ]
  },
  {
   "cell_type": "code",
   "execution_count": 66,
   "id": "d69b48e7",
   "metadata": {},
   "outputs": [],
   "source": [
    "def check_connection(\n",
    "    state: state,\n",
    ") -> Literal[\"positive_feedback\", \"run_diagnosis\"]:\n",
    "    sentiment = state[\"sentiment\"]\n",
    "    if sentiment == \"positive\":\n",
    "        return \"positive_feedback\"\n",
    "    elif sentiment == \"negative\":\n",
    "        return \"run_diagnosis\""
   ]
  },
  {
   "cell_type": "code",
   "execution_count": 67,
   "id": "ac0884b0",
   "metadata": {},
   "outputs": [
    {
     "data": {
      "text/plain": [
       "<langgraph.graph.state.StateGraph at 0x1f5cec062c0>"
      ]
     },
     "execution_count": 67,
     "metadata": {},
     "output_type": "execute_result"
    }
   ],
   "source": [
    "# add nodes\n",
    "graph.add_node(\"sentiment\", sentiment)\n",
    "\n",
    "# conditional nodes\n",
    "graph.add_node(\"positive_feedback\", positive_feedback)\n",
    "graph.add_node(\"run_diagnosis\", run_diagnosis)\n",
    "graph.add_node(\"negative_feedback\", negative_feedback)"
   ]
  },
  {
   "cell_type": "code",
   "execution_count": 68,
   "id": "b4d56f98",
   "metadata": {},
   "outputs": [
    {
     "data": {
      "text/plain": [
       "<langgraph.graph.state.StateGraph at 0x1f5cec062c0>"
      ]
     },
     "execution_count": 68,
     "metadata": {},
     "output_type": "execute_result"
    }
   ],
   "source": [
    "# add edges\n",
    "graph.add_edge(START, \"sentiment\")\n",
    "# condiational edges\n",
    "graph.add_conditional_edges(\"sentiment\", check_connection)\n",
    "graph.add_edge(\"positive_feedback\", END)\n",
    "graph.add_edge(\"run_diagnosis\", \"negative_feedback\")\n",
    "graph.add_edge(\"negative_feedback\", END)"
   ]
  },
  {
   "cell_type": "code",
   "execution_count": 69,
   "id": "61c638c6",
   "metadata": {},
   "outputs": [
    {
     "data": {
      "image/png": "[encoded data removed]",
      "text/plain": [
       "<langgraph.graph.state.CompiledStateGraph object at 0x000001F5CEC05940>"
      ]
     },
     "execution_count": 69,
     "metadata": {},
     "output_type": "execute_result"
    }
   ],
   "source": [
    "# compile the graph\n",
    "work_flow = graph.compile()\n",
    "work_flow\n"
   ]
  },
  {
   "cell_type": "code",
   "execution_count": 70,
   "id": "5a1f4dcb",
   "metadata": {},
   "outputs": [],
   "source": [
    "# execute the graph\n",
    "\n",
    "initial_state = {\"review\": \"phone screen , sound disply green line in samsung\"}\n",
    "\n",
    "final_state = work_flow.invoke(initial_state)"
   ]
  },
  {
   "cell_type": "code",
   "execution_count": 71,
   "id": "7e2e38dd",
   "metadata": {},
   "outputs": [
    {
     "name": "stdout",
     "output_type": "stream",
     "text": [
      "{'review': 'phone screen , sound disply green line in samsung', 'sentiment': 'negative', 'feedback': \"Subject: We're Here to Help with Your Bug Issue\\n\\nHi [User's Name],\\n\\nI hope this message finds you well. I want to express my sincere apologies for the frustration you've experienced due to the bug issue. I understand how critical this is for you, and I appreciate your patience as we work together to resolve it.\\n\\nTo get started, could you please provide me with more details about the issue you're facing? Specifics such as any error messages you’ve encountered, the steps leading up to the problem, or any recent changes made will be incredibly helpful in diagnosing the issue quickly.\\n\\nRest assured, we are committed to addressing this with the urgency it deserves and will do everything we can to get it resolved as soon as possible. Your experience is important to us, and we’re here to support you.\\n\\nThank you for your understanding. I look forward to your response so we can get this sorted out quickly.\\n\\nBest regards,\\n\\n[Your Name]  \\n[Your Position]  \\n[Your Contact Information]  \", 'diagnosis': {'issue_type': 'Bug', 'tone': 'frustrated', 'urgency': 'high'}}\n"
     ]
    }
   ],
   "source": [
    "# print state\n",
    "final_state \n",
    "print(final_state)\n"
   ]
  }
 ],
 "metadata": {
  "kernelspec": {
   "display_name": "venv (3.13.7)",
   "language": "python",
   "name": "python3"
  },
  "language_info": {
   "codemirror_mode": {
    "name": "ipython",
    "version": 3
   },
   "file_extension": ".py",
   "mimetype": "text/x-python",
   "name": "python",
   "nbconvert_exporter": "python",
   "pygments_lexer": "ipython3",
   "version": "3.13.7"
  }
 },
 "nbformat": 4,
 "nbformat_minor": 5
}
