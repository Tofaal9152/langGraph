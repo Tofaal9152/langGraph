{
 "cells": [
  {
   "cell_type": "code",
   "execution_count": 373,
   "id": "27049095",
   "metadata": {},
   "outputs": [
    {
     "data": {
      "text/plain": [
       "True"
      ]
     },
     "execution_count": 373,
     "metadata": {},
     "output_type": "execute_result"
    }
   ],
   "source": [
    "from langgraph.graph import StateGraph, START, END\n",
    "from typing import TypedDict\n",
    "from langchain_openai import ChatOpenAI\n",
    "from dotenv import load_dotenv\n",
    "from langchain_core.output_parsers import StrOutputParser\n",
    "from typing import Literal\n",
    "load_dotenv()"
   ]
  },
  {
   "cell_type": "code",
   "execution_count": 374,
   "id": "c2c5057b",
   "metadata": {},
   "outputs": [],
   "source": [
    "llm = ChatOpenAI (model='gpt-4o-mini')\n",
    "str_parser = StrOutputParser()"
   ]
  },
  {
   "cell_type": "code",
   "execution_count": 375,
   "id": "deba1213",
   "metadata": {},
   "outputs": [],
   "source": [
    "# define state\n",
    "class state(TypedDict):\n",
    "    a: float\n",
    "    b: float\n",
    "    c: float\n",
    "\n",
    "    equation: str\n",
    "    discriminant: float\n",
    "    result: str"
   ]
  },
  {
   "cell_type": "code",
   "execution_count": 376,
   "id": "5203e208",
   "metadata": {},
   "outputs": [],
   "source": [
    "# Define the graph\n",
    "graph = StateGraph(state)"
   ]
  },
  {
   "cell_type": "code",
   "execution_count": 377,
   "id": "b01d3fc6",
   "metadata": {},
   "outputs": [],
   "source": [
    "def equation(state: state) -> state:\n",
    "    equation = f\"{state['a']}x^2 {state['b']}x {state['c']}\"\n",
    "    return {\"equation\": equation}"
   ]
  },
  {
   "cell_type": "code",
   "execution_count": 378,
   "id": "8b6ae8c3",
   "metadata": {},
   "outputs": [],
   "source": [
    "def discriminant(state: state) -> state:\n",
    "    discriminant = state[\"b\"] ** 2 - (4 * state[\"a\"] * state[\"c\"])\n",
    "    return {\"discriminant\": discriminant}"
   ]
  },
  {
   "cell_type": "code",
   "execution_count": 379,
   "id": "d22712a8",
   "metadata": {},
   "outputs": [],
   "source": [
    "def real_roots(state: state) -> state:\n",
    "    d = state[\"discriminant\"]\n",
    "    root1 = (-state[\"b\"] + d**0.5) / (2 * state[\"a\"])\n",
    "    root2 = (-state[\"b\"] - d**0.5) / (2 * state[\"a\"])\n",
    "    result = f\"The equation has two real roots: {root1} and {root2}.\"\n",
    "    return {\"result\": result}"
   ]
  },
  {
   "cell_type": "code",
   "execution_count": 380,
   "id": "7633b115",
   "metadata": {},
   "outputs": [],
   "source": [
    "def repeated_roots(state: state) -> state:\n",
    "    root = -state[\"b\"] / (2 * state[\"a\"])\n",
    "    result = f\"The equation has one repeated real root: {root}.\"\n",
    "    return {\"result\": result}"
   ]
  },
  {
   "cell_type": "code",
   "execution_count": 381,
   "id": "24186fe0",
   "metadata": {},
   "outputs": [],
   "source": [
    "def no_real_roots(state: state) -> state:\n",
    "    result = \"The equation has no real roots.\"\n",
    "    return {\"result\": result}"
   ]
  },
  {
   "cell_type": "code",
   "execution_count": 382,
   "id": "d69b48e7",
   "metadata": {},
   "outputs": [],
   "source": [
    "def check_connection(\n",
    "    state: state,\n",
    ") -> Literal[\"real_roots\", \"repeated_roots\", \"no_real_roots\"]:\n",
    "    d = state[\"discriminant\"]\n",
    "    if d == 0:\n",
    "        return \"repeated_roots\"\n",
    "    elif d > 0:\n",
    "        return \"real_roots\"\n",
    "    else:\n",
    "        return \"no_real_roots\""
   ]
  },
  {
   "cell_type": "code",
   "execution_count": 383,
   "id": "ac0884b0",
   "metadata": {},
   "outputs": [
    {
     "data": {
      "text/plain": [
       "<langgraph.graph.state.StateGraph at 0x1ca8b457820>"
      ]
     },
     "execution_count": 383,
     "metadata": {},
     "output_type": "execute_result"
    }
   ],
   "source": [
    "# add nodes\n",
    "graph.add_node(\"equation\", equation)\n",
    "graph.add_node(\"discriminant\", discriminant)\n",
    "\n",
    "# conditional nodes\n",
    "graph.add_node(\"real_roots\", real_roots)\n",
    "graph.add_node(\"repeated_roots\", repeated_roots)\n",
    "graph.add_node(\"no_real_roots\", no_real_roots)"
   ]
  },
  {
   "cell_type": "code",
   "execution_count": 384,
   "id": "b4d56f98",
   "metadata": {},
   "outputs": [
    {
     "data": {
      "text/plain": [
       "<langgraph.graph.state.StateGraph at 0x1ca8b457820>"
      ]
     },
     "execution_count": 384,
     "metadata": {},
     "output_type": "execute_result"
    }
   ],
   "source": [
    "# add edges\n",
    "graph.add_edge(START, \"equation\")\n",
    "graph.add_edge(\"equation\", \"discriminant\")\n",
    "\n",
    "# condiational edges\n",
    "graph.add_conditional_edges(\"discriminant\", check_connection)\n",
    "graph.add_edge(\"real_roots\", END)\n",
    "graph.add_edge(\"repeated_roots\", END)\n",
    "graph.add_edge(\"no_real_roots\", END)"
   ]
  },
  {
   "cell_type": "code",
   "execution_count": 385,
   "id": "61c638c6",
   "metadata": {},
   "outputs": [
    {
     "data": {
      "image/png": "[encoded data removed]",
      "text/plain": [
       "<langgraph.graph.state.CompiledStateGraph object at 0x000001CA90C918C0>"
      ]
     },
     "execution_count": 385,
     "metadata": {},
     "output_type": "execute_result"
    }
   ],
   "source": [
    "# compile the graph\n",
    "work_flow = graph.compile()\n",
    "work_flow\n"
   ]
  },
  {
   "cell_type": "code",
   "execution_count": 386,
   "id": "5a1f4dcb",
   "metadata": {},
   "outputs": [],
   "source": [
    "# execute the graph\n",
    "\n",
    "initial_state = {\n",
    "    \"a\":4,\n",
    "    \"b\":-5,\n",
    "    \"c\":-4\n",
    "}\n",
    "\n",
    "final_state = work_flow.invoke(initial_state)"
   ]
  },
  {
   "cell_type": "code",
   "execution_count": 387,
   "id": "7e2e38dd",
   "metadata": {},
   "outputs": [
    {
     "data": {
      "text/plain": [
       "{'a': 4,\n",
       " 'b': -5,\n",
       " 'c': -4,\n",
       " 'equation': '4x^2 -5x -4',\n",
       " 'discriminant': 89,\n",
       " 'result': 'The equation has two real roots: 1.8042476415070754 and -0.5542476415070754.'}"
      ]
     },
     "execution_count": 387,
     "metadata": {},
     "output_type": "execute_result"
    }
   ],
   "source": [
    "# print state\n",
    "final_state \n"
   ]
  }
 ],
 "metadata": {
  "kernelspec": {
   "display_name": "venv (3.13.7)",
   "language": "python",
   "name": "python3"
  },
  "language_info": {
   "codemirror_mode": {
    "name": "ipython",
    "version": 3
   },
   "file_extension": ".py",
   "mimetype": "text/x-python",
   "name": "python",
   "nbconvert_exporter": "python",
   "pygments_lexer": "ipython3",
   "version": "3.13.7"
  }
 },
 "nbformat": 4,
 "nbformat_minor": 5
}
