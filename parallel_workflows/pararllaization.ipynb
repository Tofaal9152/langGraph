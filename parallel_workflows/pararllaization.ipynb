{
 "cells": [
  {
   "cell_type": "code",
   "execution_count": 136,
   "id": "27049095",
   "metadata": {},
   "outputs": [
    {
     "data": {
      "text/plain": [
       "True"
      ]
     },
     "execution_count": 136,
     "metadata": {},
     "output_type": "execute_result"
    }
   ],
   "source": [
    "from langgraph.graph import StateGraph, START, END\n",
    "from typing import TypedDict\n",
    "from langchain_openai import ChatOpenAI\n",
    "from dotenv import load_dotenv\n",
    "from langchain_core.output_parsers import StrOutputParser\n",
    "from langchain.prompts import PromptTemplate\n",
    "from langchain.output_parsers import PydanticOutputParser\n",
    "from pydantic import BaseModel, Field\n",
    "from IPython.display import Image\n",
    "load_dotenv()"
   ]
  },
  {
   "cell_type": "code",
   "execution_count": null,
   "id": "c2c5057b",
   "metadata": {},
   "outputs": [],
   "source": [
    "llm = ChatOpenAI (model='gpt-4o-mini')\n",
    "str_parser = StrOutputParser()"
   ]
  },
  {
   "cell_type": "code",
   "execution_count": null,
   "id": "39e7f010",
   "metadata": {},
   "outputs": [],
   "source": [
    "# parser\n",
    "class Score(BaseModel):\n",
    "    score: float = Field(description=\"score\",)\n",
    "\n",
    "\n",
    "parser = PydanticOutputParser(pydantic_object=Score)"
   ]
  },
  {
   "cell_type": "code",
   "execution_count": 139,
   "id": "c9b42c31",
   "metadata": {},
   "outputs": [],
   "source": [
    "# prompt\n",
    "\n",
    "prompt_for_cot = PromptTemplate(\n",
    "    input_variables=[\"essay_text\"],\n",
    "    template=(\n",
    "        \"Evaluate the following essay for *Clarity of Thought*: \"\n",
    "        \"Are the ideas expressed in a clear, logical, and understandable way? \"\n",
    "        \"Return only a percentage score (0–100).\\n\\nEssay:\\n{essay_text} \\n {format_instruction}\"\n",
    "    ),\n",
    "    partial_variables={\"format_instruction\": parser.get_format_instructions()},\n",
    ")\n",
    "\n",
    "prompt_for_doa = PromptTemplate(\n",
    "    input_variables=[\"essay_text\"],\n",
    "    template=(\n",
    "        \"Evaluate the following essay for *Depth of Analysis*: \"\n",
    "        \"Does the essay provide deep insights, reasoning, and well-supported arguments? \"\n",
    "        \"Return only a percentage score (0–100).\\n\\nEssay:\\n{essay_text} \\n {format_instruction}\"\n",
    "    ),\n",
    "    partial_variables={\"format_instruction\": parser.get_format_instructions()},\n",
    ")\n",
    "\n",
    "prompt_for_language = PromptTemplate(\n",
    "    input_variables=[\"essay_text\"],\n",
    "    template=(\n",
    "        \"Evaluate the following essay for *Language*: \"\n",
    "        \"Consider grammar, vocabulary, sentence structure, and fluency. \"\n",
    "        \"Return only a percentage score (0–100).\\n\\nEssay:\\n{essay_text}\\n {format_instruction}\"\n",
    "    ),\n",
    "    partial_variables={\"format_instruction\": parser.get_format_instructions()},\n",
    ")\n",
    "\n",
    "prompt_for_final_feedback = PromptTemplate(\n",
    "    input_variables=[\n",
    "        \"clarity_of_thought_score\",\n",
    "        \"depth_of_analysis_score\",\n",
    "        \"language_feedback_score\",\n",
    "        \"essay_text\",\n",
    "    ],\n",
    "    template=(\n",
    "        \"You are evaluating an essay based on three criteria:\\n\"\n",
    "        \"- Clarity of Thought: {clarity_of_thought_score}%\\n\"\n",
    "        \"- Depth of Analysis: {depth_of_analysis_score}%\\n\"\n",
    "        \"- Language: {language_feedback_score}%\\n\\n\"\n",
    "        \"Essay:\\n{essay_text}\\n\\n\"\n",
    "        \"1. Provide a brief overall evaluation (2–3 sentences) that summarizes the essay’s strengths and weaknesses.\\n\"\n",
    "        \"2. Give a **Final Feedback Score (0–100)** that reflects the average of the three scores but also considers overall impression.\"\n",
    "    ),\n",
    ")"
   ]
  },
  {
   "cell_type": "code",
   "execution_count": 140,
   "id": "deba1213",
   "metadata": {},
   "outputs": [],
   "source": [
    "# define state\n",
    "class state(TypedDict):\n",
    "    essay_text: str\n",
    "    clarity_of_thought_score: float\n",
    "    depth_of_analysis_score: float\n",
    "    language_feedback_score: float\n",
    "\n",
    "    final_feedback: str\n",
    "    # individual_score: list\n",
    "    # final_score: float"
   ]
  },
  {
   "cell_type": "code",
   "execution_count": 141,
   "id": "a76971f6",
   "metadata": {},
   "outputs": [],
   "source": [
    "def clarity_of_thought_score(state: state) -> state:\n",
    "\n",
    "    chain1 = prompt_for_cot | llm | parser\n",
    "\n",
    "    cot = chain1.invoke({\"essay_text\": state[\"essay_text\"]})\n",
    "\n",
    "    state[\"clarity_of_thought_score\"] = cot.score\n",
    "\n",
    "    return {\"clarity_of_thought_score\": cot.score}"
   ]
  },
  {
   "cell_type": "code",
   "execution_count": 142,
   "id": "16d608dd",
   "metadata": {},
   "outputs": [],
   "source": [
    "def depth_of_analysis_score(state: state) -> state:\n",
    "\n",
    "    chain2 = prompt_for_doa | llm | parser\n",
    "\n",
    "    doa = chain2.invoke({\"essay_text\": state[\"essay_text\"]})\n",
    "\n",
    "    state[\"depth_of_analysis_score\"] = doa.score\n",
    "\n",
    "    return {\"depth_of_analysis_score\": doa.score}"
   ]
  },
  {
   "cell_type": "code",
   "execution_count": 143,
   "id": "d7fc460b",
   "metadata": {},
   "outputs": [],
   "source": [
    "def language_feedback_score(state: state) -> state:\n",
    "\n",
    "    chain3 = prompt_for_language | llm | parser\n",
    "\n",
    "    language = chain3.invoke({\"essay_text\": state[\"essay_text\"]})\n",
    "\n",
    "    state[\"language_feedback_score\"] = language.score\n",
    "\n",
    "    return {\"language_feedback_score\": language.score}"
   ]
  },
  {
   "cell_type": "code",
   "execution_count": 144,
   "id": "f6400ad8",
   "metadata": {},
   "outputs": [],
   "source": [
    "def final_feedback(state: state) -> state:\n",
    "    chain4 = prompt_for_final_feedback | llm | str_parser\n",
    "\n",
    "    final_feedback = chain4.invoke(\n",
    "        {\n",
    "            \"clarity_of_thought_score\": state[\"clarity_of_thought_score\"],\n",
    "            \"depth_of_analysis_score\": state[\"depth_of_analysis_score\"],\n",
    "            \"language_feedback_score\": state[\"language_feedback_score\"],\n",
    "            \"essay_text\": state[\"essay_text\"],\n",
    "        }\n",
    "    )\n",
    "    state[\"final_feedback\"] = final_feedback\n",
    "\n",
    "    return {\"final_feedback\": final_feedback}"
   ]
  },
  {
   "cell_type": "code",
   "execution_count": 145,
   "id": "5203e208",
   "metadata": {},
   "outputs": [],
   "source": [
    "# Define the graph\n",
    "graph = StateGraph(state)"
   ]
  },
  {
   "cell_type": "code",
   "execution_count": 146,
   "id": "ac0884b0",
   "metadata": {},
   "outputs": [
    {
     "data": {
      "text/plain": [
       "<langgraph.graph.state.StateGraph at 0x1eb32648250>"
      ]
     },
     "execution_count": 146,
     "metadata": {},
     "output_type": "execute_result"
    }
   ],
   "source": [
    "# add nodes\n",
    "graph.add_node(\"clarity_of_thought_score\", clarity_of_thought_score)\n",
    "graph.add_node(\"depth_of_analysis_score\", depth_of_analysis_score)\n",
    "graph.add_node(\"language_feedback_score\", language_feedback_score)\n",
    "graph.add_node(\"final_feedback\", final_feedback)"
   ]
  },
  {
   "cell_type": "code",
   "execution_count": 147,
   "id": "b4d56f98",
   "metadata": {},
   "outputs": [
    {
     "data": {
      "text/plain": [
       "<langgraph.graph.state.StateGraph at 0x1eb32648250>"
      ]
     },
     "execution_count": 147,
     "metadata": {},
     "output_type": "execute_result"
    }
   ],
   "source": [
    "# add edges\n",
    "graph.add_edge(START, \"clarity_of_thought_score\")\n",
    "graph.add_edge(START, \"depth_of_analysis_score\")\n",
    "graph.add_edge(START, \"language_feedback_score\")\n",
    "\n",
    "#\n",
    "graph.add_edge(\"clarity_of_thought_score\", \"final_feedback\")\n",
    "graph.add_edge(\"depth_of_analysis_score\", \"final_feedback\")\n",
    "graph.add_edge(\"language_feedback_score\", \"final_feedback\")\n",
    "#\n",
    "graph.add_edge(\"final_feedback\", END)"
   ]
  },
  {
   "cell_type": "code",
   "execution_count": 148,
   "id": "61c638c6",
   "metadata": {},
   "outputs": [
    {
     "data": {
      "image/png": "[encoded data removed]",
      "text/plain": [
       "<IPython.core.display.Image object>"
      ]
     },
     "execution_count": 148,
     "metadata": {},
     "output_type": "execute_result"
    }
   ],
   "source": [
    "# compile the graph\n",
    "work_flow = graph.compile()\n",
    "# View Graph\n",
    "Image(work_flow.get_graph().draw_mermaid_png())"
   ]
  },
  {
   "cell_type": "code",
   "execution_count": 149,
   "id": "5a1f4dcb",
   "metadata": {},
   "outputs": [],
   "source": [
    "# execute the graph\n",
    "\n",
    "initial_state = {\n",
    "    \"essay_text\": \"\"\"Anie is my favorite thing to watch after school. I like it because the characters look cool and he stories are exciting. My first anime was Naruto, and I liked how he nevr gave up even when things were hard. Now I also watch Demon Slayer, which has amazing fights and really nice animation. Sometimes I tr to draw the characters in my notebook, bu they never look as good as in the show. Anime also teaches me lessons, like teamwork, friendship, and working hard for your dreams. I want to visi Japan one day to see where anime is made. For me, anime is not just cartoons, it is a big part of my life.\n",
    "        \"\"\"\n",
    "}\n",
    "\n",
    "final_state = work_flow.invoke(initial_state)"
   ]
  },
  {
   "cell_type": "code",
   "execution_count": 150,
   "id": "7e2e38dd",
   "metadata": {},
   "outputs": [
    {
     "name": "stdout",
     "output_type": "stream",
     "text": [
      "{'essay_text': 'Anie is my favorite thing to watch after school. I like it because the characters look cool and he stories are exciting. My first anime was Naruto, and I liked how he nevr gave up even when things were hard. Now I also watch Demon Slayer, which has amazing fights and really nice animation. Sometimes I tr to draw the characters in my notebook, bu they never look as good as in the show. Anime also teaches me lessons, like teamwork, friendship, and working hard for your dreams. I want to visi Japan one day to see where anime is made. For me, anime is not just cartoons, it is a big part of my life.\\n        ', 'clarity_of_thought_score': 75.0, 'depth_of_analysis_score': 50.0, 'language_feedback_score': 75.0, 'final_feedback': 'Overall, the essay presents a clear enthusiasm for anime, showcasing a personal connection and some insightful reflections on its themes. However, it suffers from a lack of depth in analysis and several language errors that detract from the overall clarity and impact. With improved analysis and careful proofreading, this essay could be significantly strengthened.\\n\\n**Final Feedback Score: 65**'}\n"
     ]
    }
   ],
   "source": [
    "# print state\n",
    "print(final_state)"
   ]
  }
 ],
 "metadata": {
  "kernelspec": {
   "display_name": "venv (3.13.7)",
   "language": "python",
   "name": "python3"
  },
  "language_info": {
   "codemirror_mode": {
    "name": "ipython",
    "version": 3
   },
   "file_extension": ".py",
   "mimetype": "text/x-python",
   "name": "python",
   "nbconvert_exporter": "python",
   "pygments_lexer": "ipython3",
   "version": "3.13.7"
  }
 },
 "nbformat": 4,
 "nbformat_minor": 5
}
