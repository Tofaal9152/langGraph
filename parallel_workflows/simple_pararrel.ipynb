{
 "cells": [
  {
   "cell_type": "code",
   "execution_count": null,
   "id": "27049095",
   "metadata": {},
   "outputs": [
    {
     "data": {
      "text/plain": [
       "True"
      ]
     },
     "execution_count": 39,
     "metadata": {},
     "output_type": "execute_result"
    }
   ],
   "source": [
    "from langgraph.graph import StateGraph, START, END\n",
    "from typing import TypedDict\n",
    "from langchain_openai import ChatOpenAI\n",
    "from dotenv import load_dotenv\n",
    "from langchain_core.output_parsers import StrOutputParser\n",
    "from langchain.prompts import PromptTemplate\n",
    "load_dotenv()"
   ]
  },
  {
   "cell_type": "code",
   "execution_count": null,
   "id": "c2c5057b",
   "metadata": {},
   "outputs": [],
   "source": [
    "llm = ChatOpenAI (model='gpt-4o-mini')\n",
    "parser = StrOutputParser()"
   ]
  },
  {
   "cell_type": "code",
   "execution_count": null,
   "id": "c9b42c31",
   "metadata": {},
   "outputs": [],
   "source": [
    "prompt = PromptTemplate(\n",
    "    input_variables=[\"sr\", \"bpb\", \"boundary_parcentage\"],\n",
    "    template=\"Based on the stats: Strike Rate: {sr}, Balls Per Boundary: {bpb}, and Boundary Percentage: {boundary_parcentage}, briefly describe the player's performance. Additionally, guess a name of a player who might match this performance.\",\n",
    ")"
   ]
  },
  {
   "cell_type": "code",
   "execution_count": null,
   "id": "deba1213",
   "metadata": {},
   "outputs": [],
   "source": [
    "# define state\n",
    "class cricket_state(TypedDict):\n",
    "    run:int\n",
    "    balls:int\n",
    "    sixes:int\n",
    "    foures:int\n",
    "    \n",
    "    sr:float\n",
    "    bpb:float\n",
    "    boundary_parcentage:float\n",
    "    summery:str"
   ]
  },
  {
   "cell_type": "code",
   "execution_count": null,
   "id": "a76971f6",
   "metadata": {},
   "outputs": [],
   "source": [
    "def calculate_sr(state: cricket_state) -> cricket_state:\n",
    "    run = state[\"run\"]\n",
    "    balls = state[\"balls\"]\n",
    "\n",
    "    sr = run / balls * 100\n",
    "\n",
    "    state[\"sr\"] = sr\n",
    "\n",
    "    return {\"sr\": sr}"
   ]
  },
  {
   "cell_type": "code",
   "execution_count": null,
   "id": "16d608dd",
   "metadata": {},
   "outputs": [],
   "source": [
    "def calculate_bpb(state: cricket_state) -> cricket_state:\n",
    "    balls = state[\"balls\"]\n",
    "    sixes = state[\"sixes\"]\n",
    "    foures = state[\"foures\"]\n",
    "\n",
    "    bpb = (sixes + foures ) / balls\n",
    "\n",
    "    state[\"bpb\"] = bpb\n",
    "\n",
    "    return {\"bpb\": bpb}"
   ]
  },
  {
   "cell_type": "code",
   "execution_count": null,
   "id": "d7fc460b",
   "metadata": {},
   "outputs": [],
   "source": [
    "def calculate_boundary_percentage(state: cricket_state) -> cricket_state:\n",
    "    sixes = state[\"sixes\"]\n",
    "    foures = state[\"foures\"]\n",
    "    run = state[\"run\"]\n",
    "\n",
    "    boundary_parcentage = (sixes * 6 + foures * 4) / run * 100\n",
    "\n",
    "    state[\"boundary_parcentage\"] = boundary_parcentage\n",
    "\n",
    "    return {\"boundary_parcentage\": boundary_parcentage}"
   ]
  },
  {
   "cell_type": "code",
   "execution_count": null,
   "id": "f6400ad8",
   "metadata": {},
   "outputs": [],
   "source": [
    "def generate_summery(state: cricket_state) -> cricket_state:\n",
    "    chain = prompt | llm | parser\n",
    "\n",
    "    summery = chain.invoke(\n",
    "        {\n",
    "            \"sr\": state[\"sr\"],\n",
    "            \"bpb\": state[\"bpb\"],\n",
    "            \"boundary_parcentage\": state[\"boundary_parcentage\"],\n",
    "        }\n",
    "    )\n",
    "    state[\"summery\"] = summery\n",
    "\n",
    "    return {\"summery\": summery}"
   ]
  },
  {
   "cell_type": "code",
   "execution_count": null,
   "id": "5203e208",
   "metadata": {},
   "outputs": [],
   "source": [
    "# Define the graph\n",
    "graph = StateGraph(cricket_state)"
   ]
  },
  {
   "cell_type": "code",
   "execution_count": null,
   "id": "ac0884b0",
   "metadata": {},
   "outputs": [
    {
     "data": {
      "text/plain": [
       "<langgraph.graph.state.StateGraph at 0x2553dddb230>"
      ]
     },
     "execution_count": 48,
     "metadata": {},
     "output_type": "execute_result"
    }
   ],
   "source": [
    "# add nodes\n",
    "graph.add_node(\"calculate_sr\", calculate_sr)\n",
    "graph.add_node(\"calculate_bpb\", calculate_bpb)\n",
    "graph.add_node(\"calculate_boundary_percentage\", calculate_boundary_percentage)\n",
    "graph.add_node(\"generate_summery\", generate_summery)"
   ]
  },
  {
   "cell_type": "code",
   "execution_count": null,
   "id": "b4d56f98",
   "metadata": {},
   "outputs": [
    {
     "data": {
      "text/plain": [
       "<langgraph.graph.state.StateGraph at 0x2553dddb230>"
      ]
     },
     "execution_count": 49,
     "metadata": {},
     "output_type": "execute_result"
    }
   ],
   "source": [
    "# add edges\n",
    "graph.add_edge(START, \"calculate_sr\")\n",
    "graph.add_edge(START, \"calculate_bpb\")\n",
    "graph.add_edge(START, \"calculate_boundary_percentage\")\n",
    "\n",
    "#\n",
    "graph.add_edge(\"calculate_sr\", \"generate_summery\")\n",
    "graph.add_edge(\"calculate_bpb\", \"generate_summery\")\n",
    "graph.add_edge(\"calculate_boundary_percentage\", \"generate_summery\")\n",
    "#\n",
    "graph.add_edge(\"generate_summery\", END)"
   ]
  },
  {
   "cell_type": "code",
   "execution_count": null,
   "id": "61c638c6",
   "metadata": {},
   "outputs": [],
   "source": [
    "# compile the graph\n",
    "work_flow = graph.compile()"
   ]
  },
  {
   "cell_type": "code",
   "execution_count": null,
   "id": "5a1f4dcb",
   "metadata": {},
   "outputs": [],
   "source": [
    "# execute the graph\n",
    "\n",
    "initial_state = {\"run\": 149, \"balls\": 44, \"sixes\": 16, \"foures\": 9}\n",
    "\n",
    "final_state = work_flow.invoke(initial_state)"
   ]
  },
  {
   "cell_type": "code",
   "execution_count": null,
   "id": "7e2e38dd",
   "metadata": {},
   "outputs": [
    {
     "name": "stdout",
     "output_type": "stream",
     "text": [
      "{'run': 149, 'balls': 44, 'sixes': 16, 'foures': 9, 'sr': 338.6363636363636, 'bpb': 0.5681818181818182, 'boundary_parcentage': 88.59060402684564, 'summery': \"The player's performance statistics indicate an extremely aggressive batting style. A strike rate of 338.64 suggests that they score runs very quickly, indicating a high level of aggression and ability to find boundaries. The stat of 0.57 balls per boundary implies that the player is hitting a boundary (either four or six) roughly every half a ball, which is exceptional and highlights their ability to consistently find the boundary. Additionally, a boundary percentage of 88.59% indicates that a significant majority of their runs are coming from boundaries, further emphasizing their explosive batting approach.\\n\\nGiven these performance metrics, a player who might match this style of performance could be someone like Chris Gayle, who is known for his explosive batting and ability to score heavily in limited-overs formats. Other modern players who fit this aggressive profile could also include the likes of AB de Villiers or even someone like Jos Buttler.\"}\n"
     ]
    }
   ],
   "source": [
    "# print state\n",
    "print(final_state)"
   ]
  },
  {
   "cell_type": "code",
   "execution_count": null,
   "id": "d3d061fd",
   "metadata": {},
   "outputs": [
    {
     "data": {
      "image/png": "[encoded data removed]",
      "text/plain": [
       "<IPython.core.display.Image object>"
      ]
     },
     "execution_count": 53,
     "metadata": {},
     "output_type": "execute_result"
    }
   ],
   "source": [
    "# View Graph\n",
    "from IPython.display import Image\n",
    "\n",
    "Image(work_flow.get_graph().draw_mermaid_png())"
   ]
  }
 ],
 "metadata": {
  "kernelspec": {
   "display_name": "venv (3.13.7)",
   "language": "python",
   "name": "python3"
  },
  "language_info": {
   "codemirror_mode": {
    "name": "ipython",
    "version": 3
   },
   "file_extension": ".py",
   "mimetype": "text/x-python",
   "name": "python",
   "nbconvert_exporter": "python",
   "pygments_lexer": "ipython3",
   "version": "3.13.7"
  }
 },
 "nbformat": 4,
 "nbformat_minor": 5
}
